{
 "cells": [
  {
   "cell_type": "code",
   "execution_count": 3,
   "metadata": {},
   "outputs": [],
   "source": [
    "import os\n",
    "import re\n",
    "import csv\n",
    "import math\n",
    "import tqdm\n",
    "import argparse\n",
    "import pathlib\n",
    "import subprocess"
   ]
  },
  {
   "cell_type": "code",
   "execution_count": 4,
   "metadata": {},
   "outputs": [],
   "source": [
    "snapshot_file = '../../data/engineroom/2018-03-01/enwiki.wikigraph.snapshot.2018-03-01.csv'\n",
    "graph_file = '../../data/engineroom/2018-03-01/enwiki.wikigraph.pagerank.2018-03-01.csv'\n",
    "file = './count_individual_loops.dat'"
   ]
  },
  {
   "cell_type": "code",
   "execution_count": 5,
   "metadata": {},
   "outputs": [],
   "source": [
    "PATTERN_NAME=r'enwiki.looprank.(.*).4.2018-03-01.txt'\n",
    "regex_name = re.compile(PATTERN_NAME)"
   ]
  },
  {
   "cell_type": "code",
   "execution_count": 6,
   "metadata": {},
   "outputs": [],
   "source": [
    "lines = []\n",
    "with open(file, 'r') as infile:\n",
    "    reader = csv.reader(infile, delimiter='\\t')\n",
    "\n",
    "    for line in reader:\n",
    "        match_name = regex_name.match(line[3])\n",
    "        if match_name:\n",
    "            name = match_name.group(1)\n",
    "            lines.append({name: (int(line[0]),\n",
    "                                 int(line[1]),\n",
    "                                 int(line[2])\n",
    "                                 )\n",
    "                          })\n",
    "        else:\n",
    "            continue"
   ]
  },
  {
   "cell_type": "code",
   "execution_count": 7,
   "metadata": {},
   "outputs": [
    {
     "data": {
      "text/plain": [
       "[{'100_Acres:_The_Virginia_B._Fairbanks_Art_and_Nature_Park': (7, 14, 251)},\n",
       " {'100_Crore_Club': (9, 143, 3439)},\n",
       " {'100th_Army_Band': (1, 3, 59)},\n",
       " {'10th_Parachute_Division_(France)': (15, 166, 3348)},\n",
       " {'116th_Street_(Manhattan)': (10, 83, 2521)},\n",
       " {'11th_IIFA_Awards': (8, 99, 3305)},\n",
       " {'11α-Hydroxyprogesterone': (5, 7, 138)},\n",
       " {\"130–136_Piccott's_End\": (2, 1, 10)},\n",
       " {'14th_Bangladesh_National_Film_Awards': (2, 9, 80)},\n",
       " {'1526_in_poetry': (3, 9, 56)}]"
      ]
     },
     "execution_count": 7,
     "metadata": {},
     "output_type": "execute_result"
    }
   ],
   "source": [
    "lines[:10]"
   ]
  },
  {
   "cell_type": "code",
   "execution_count": 8,
   "metadata": {},
   "outputs": [],
   "source": [
    "# Processing non-UTF-8 Posix filenames using Python pathlib?\n",
    "# https://stackoverflow.com/a/45724695/2377454\n",
    "def safe_path(path: pathlib.Path) -> pathlib.Path:\n",
    "    if isinstance(path, pathlib.Path):\n",
    "        encoded_path = path.as_posix().encode('utf-8')\n",
    "    else:\n",
    "        encoded_path = pathlib.Path(path).as_posix().encode('utf-8')\n",
    "    return pathlib.Path(os.fsdecode(encoded_path))\n"
   ]
  },
  {
   "cell_type": "code",
   "execution_count": 9,
   "metadata": {},
   "outputs": [],
   "source": [
    "# How to get line count cheaply in Python?\n",
    "# https://stackoverflow.com/a/45334571/2377454\n",
    "def count_file_lines(file_path: pathlib.Path) -> int:\n",
    "    \"\"\"\n",
    "    Counts the number of lines in a file using wc utility.\n",
    "    :param file_path: path to file\n",
    "    :return: int, no of lines\n",
    "    \"\"\"\n",
    "\n",
    "    num = subprocess.check_output(\n",
    "        ['wc', '-l', safe_path(file_path).as_posix()])\n",
    "    num = num.decode('utf-8').strip().split(' ')\n",
    "    return int(num[0])"
   ]
  },
  {
   "cell_type": "code",
   "execution_count": 10,
   "metadata": {},
   "outputs": [
    {
     "name": "stderr",
     "output_type": "stream",
     "text": [
      "100%|██████████| 13749291/13749291 [00:30<00:00, 458128.13it/s]\n"
     ]
    }
   ],
   "source": [
    "# print('* Read the \"snapshot\" file: ', file=sys.stderr)\n",
    "snaplen = count_file_lines(snapshot_file)\n",
    "snap_id2title = dict()\n",
    "snap_title2id = dict()\n",
    "with tqdm.tqdm(total=snaplen) as pbar:\n",
    "    with safe_path(snapshot_file).open('r', encoding='utf-8') as snapfp:\n",
    "        reader = csv.reader(snapfp, delimiter='\\t')\n",
    "        for l in reader:\n",
    "            snap_id2title[int(l[0])] = l[1]\n",
    "            snap_title2id[l[1]] = int(l[0])\n",
    "            pbar.update(1)"
   ]
  },
  {
   "cell_type": "code",
   "execution_count": 14,
   "metadata": {},
   "outputs": [
    {
     "data": {
      "text/plain": [
       "{'AccessibleComputing': 0,\n",
       " 'Anarchism': 1,\n",
       " 'AfghanistanHistory': 2,\n",
       " 'AfghanistanGeography': 3,\n",
       " 'AfghanistanPeople': 4,\n",
       " 'AfghanistanCommunications': 5,\n",
       " 'AfghanistanTransportations': 6,\n",
       " 'AfghanistanMilitary': 7,\n",
       " 'AfghanistanTransnationalIssues': 8,\n",
       " 'AssistiveTechnology': 9}"
      ]
     },
     "execution_count": 14,
     "metadata": {},
     "output_type": "execute_result"
    }
   ],
   "source": [
    "{key: snap_title2id[key] for key in list(snap_title2id.keys())[:10]}"
   ]
  },
  {
   "cell_type": "code",
   "execution_count": null,
   "metadata": {},
   "outputs": [
    {
     "name": "stderr",
     "output_type": "stream",
     "text": [
      " 91%|█████████ | 148000765/163380008 [08:42<01:04, 237536.76it/s] "
     ]
    }
   ],
   "source": [
    "graph = []\n",
    "graphlen = count_file_lines(graph_file)\n",
    "with tqdm.tqdm(total=graphlen) as pbar:\n",
    "    with safe_path(graph_file).open('r', encoding='utf-8') as graphfp:\n",
    "        reader = csv.reader(graphfp, delimiter=' ')\n",
    "        for l in reader:\n",
    "            s = int(l[0])\n",
    "            t = int(l[0])\n",
    "            graph.append((s, t))\n",
    "\n",
    "            pbar.update(1)"
   ]
  },
  {
   "cell_type": "code",
   "execution_count": null,
   "metadata": {},
   "outputs": [],
   "source": [
    "loglines = []\n",
    "for line in lines:\n",
    "    data2 = line[0]\n",
    "    data3 = line[1]\n",
    "    data4 = line[2]\n",
    "\n",
    "    logdata2 = -1\n",
    "    if data2 > 0:\n",
    "        logdata2 = math.log(data2)\n",
    "\n",
    "    logdata3 = -1\n",
    "    if data3 > 0:\n",
    "        logdata3 = math.log(data3)\n",
    "\n",
    "    logdata4 = -1\n",
    "    if data4 > 0:\n",
    "        logdata4 = math.log(data4)\n",
    "\n",
    "    data = (logdata2,\n",
    "            logdata3,\n",
    "            logdata4,\n",
    "            ) \n",
    "    loglines.append(data)"
   ]
  },
  {
   "cell_type": "code",
   "execution_count": null,
   "metadata": {},
   "outputs": [],
   "source": [
    "loglines"
   ]
  },
  {
   "cell_type": "code",
   "execution_count": null,
   "metadata": {},
   "outputs": [],
   "source": [
    "ratios = []\n",
    "ratios2 = []\n",
    "for line in loglines:\n",
    "    if line[0] > 0 and line[1] > 0 and line[2] > 0:\n",
    "        data = (line[0]/(2.0*2.0), line[1]/(3.0*3.0), line[2]/(4.0*4.0))\n",
    "        data2 = (line[1]/(line[0]), line[2]/(line[0]))\n",
    "        ratios.append(data)\n",
    "        ratios2.append(data2)"
   ]
  },
  {
   "cell_type": "code",
   "execution_count": null,
   "metadata": {},
   "outputs": [],
   "source": [
    "ratios[:10]"
   ]
  },
  {
   "cell_type": "code",
   "execution_count": null,
   "metadata": {},
   "outputs": [],
   "source": [
    "ratios2[:10]"
   ]
  },
  {
   "cell_type": "code",
   "execution_count": null,
   "metadata": {},
   "outputs": [],
   "source": [
    "flat_ratios = [item for sublist in ratios for item in sublist]"
   ]
  },
  {
   "cell_type": "code",
   "execution_count": null,
   "metadata": {},
   "outputs": [],
   "source": [
    "flat_ratios"
   ]
  },
  {
   "cell_type": "code",
   "execution_count": null,
   "metadata": {},
   "outputs": [],
   "source": [
    "import statistics\n",
    "statistics.pvariance(flat_ratios)"
   ]
  },
  {
   "cell_type": "code",
   "execution_count": null,
   "metadata": {},
   "outputs": [],
   "source": [
    "statistics.mean(flat_ratios)"
   ]
  },
  {
   "cell_type": "code",
   "execution_count": null,
   "metadata": {},
   "outputs": [],
   "source": []
  }
 ],
 "metadata": {
  "kernelspec": {
   "display_name": "Python 3",
   "language": "python",
   "name": "python3"
  },
  "language_info": {
   "codemirror_mode": {
    "name": "ipython",
    "version": 3
   },
   "file_extension": ".py",
   "mimetype": "text/x-python",
   "name": "python",
   "nbconvert_exporter": "python",
   "pygments_lexer": "ipython3",
   "version": "3.6.8"
  }
 },
 "nbformat": 4,
 "nbformat_minor": 2
}
